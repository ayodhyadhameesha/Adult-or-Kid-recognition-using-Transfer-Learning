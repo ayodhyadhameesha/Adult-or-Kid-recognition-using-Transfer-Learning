{
 "cells": [
  {
   "cell_type": "code",
   "execution_count": 4,
   "metadata": {},
   "outputs": [],
   "source": [
    "import numpy as np\n",
    "\n",
    "data=np.load('data-mobile-net-more.npy')\n",
    "target=np.load('target-mobile-net-more.npy')\n",
    "from tensorflow.keras.applications import MobileNetV2\n",
    "from tensorflow.keras.layers import AveragePooling2D\n",
    "from tensorflow.keras.layers import Dropout\n",
    "from tensorflow.keras.layers import Flatten\n",
    "from tensorflow.keras.layers import Dense\n",
    "from tensorflow.keras.layers import Input\n",
    "from tensorflow.keras.models import Model\n",
    "from tensorflow.keras.models import load_model\n",
    "\n",
    "def load_cnn():\n",
    "\n",
    "        baseModel= MobileNetV2(weights='imagenet',include_top=False,input_tensor=Input(shape=(224,224,3)))\n",
    "\n",
    "        headModel= baseModel.output\n",
    "        headModel= AveragePooling2D(pool_size=(4,4),padding='same')(headModel)\n",
    "        headModel= Flatten(name=\"flatten\")(headModel)\n",
    "        headModel= Dense(128,activation='relu')(headModel)\n",
    "        headModel= Dropout(0.5)(headModel)\n",
    "        headModel= Dense(2,activation=\"softmax\")(headModel)\n",
    "\n",
    "        model= Model(inputs=baseModel.input,outputs=headModel)\n",
    "\n",
    "        for layer in baseModel.layers:\n",
    "                 \n",
    "                layer.trainable = False\n",
    "    \n",
    "        model.compile(loss='categorical_crossentropy',optimizer='adam',metrics=[\"accuracy\"])\n",
    "        model=load_model('AdultKid-mobile-net98.h5')\n",
    "\n",
    "        return model"
   ]
  },
  {
   "cell_type": "code",
   "execution_count": 2,
   "metadata": {},
   "outputs": [
    {
     "name": "stdout",
     "output_type": "stream",
     "text": [
      "WARNING:tensorflow:From C:\\Users\\Ayodhya\\anaconda3\\lib\\site-packages\\tensorflow\\python\\ops\\init_ops.py:1251: calling VarianceScaling.__init__ (from tensorflow.python.ops.init_ops) with dtype is deprecated and will be removed in a future version.\n",
      "Instructions for updating:\n",
      "Call initializer instance with the dtype argument instead of passing it to the constructor\n"
     ]
    },
    {
     "name": "stderr",
     "output_type": "stream",
     "text": [
      "C:\\Users\\Ayodhya\\anaconda3\\lib\\site-packages\\keras_applications\\mobilenet_v2.py:294: UserWarning: `input_shape` is undefined or non-square, or `rows` is not in [96, 128, 160, 192, 224]. Weights for input shape (224, 224) will be loaded as the default.\n",
      "  warnings.warn('`input_shape` is undefined or non-square, '\n"
     ]
    },
    {
     "name": "stdout",
     "output_type": "stream",
     "text": [
      "WARNING:tensorflow:From C:\\Users\\Ayodhya\\anaconda3\\lib\\site-packages\\tensorflow\\python\\ops\\init_ops.py:97: calling GlorotUniform.__init__ (from tensorflow.python.ops.init_ops) with dtype is deprecated and will be removed in a future version.\n",
      "Instructions for updating:\n",
      "Call initializer instance with the dtype argument instead of passing it to the constructor\n",
      "WARNING:tensorflow:From C:\\Users\\Ayodhya\\anaconda3\\lib\\site-packages\\tensorflow\\python\\ops\\init_ops.py:97: calling Zeros.__init__ (from tensorflow.python.ops.init_ops) with dtype is deprecated and will be removed in a future version.\n",
      "Instructions for updating:\n",
      "Call initializer instance with the dtype argument instead of passing it to the constructor\n",
      "WARNING:tensorflow:From C:\\Users\\Ayodhya\\anaconda3\\lib\\site-packages\\tensorflow\\python\\ops\\init_ops.py:97: calling Ones.__init__ (from tensorflow.python.ops.init_ops) with dtype is deprecated and will be removed in a future version.\n",
      "Instructions for updating:\n",
      "Call initializer instance with the dtype argument instead of passing it to the constructor\n",
      "[[9.997472e-01 2.527683e-04]]\n",
      "[[1.8634282e-04 9.9981374e-01]]\n",
      "[[1.489326e-04 9.998510e-01]]\n",
      "[[0.46731207 0.5326879 ]]\n",
      "[[0.91346496 0.08653506]]\n",
      "[[0.38580373 0.6141963 ]]\n",
      "[[0.0973352 0.9026648]]\n",
      "[[9.9965584e-01 3.4413001e-04]]\n",
      "[[0.99804425 0.00195574]]\n",
      "[[0.9580747 0.0419253]]\n",
      "[[0.01545634 0.9845436 ]]\n",
      "[[9.9996185e-01 3.8176142e-05]]\n",
      "[[0.20043486 0.79956514]]\n",
      "[[0.09284917 0.90715086]]\n",
      "[[0.00310855 0.99689144]]\n"
     ]
    }
   ],
   "source": [
    "import cv2,os\n",
    "from tensorflow.keras.models import Model\n",
    "test_path='test1'\n",
    "img_names=os.listdir(test_path)\n",
    "model=load_cnn()\n",
    "category={0:'Adult',1:'Kid'}\n",
    "for img_name in img_names:\n",
    "    img_path=os.path.join(test_path,img_name)\n",
    "    img=cv2.imread(img_path)\n",
    "    #gray=cv2.cvtColor(img,cv2.COLOR_BGR2GRAY)\n",
    "    resized=cv2.resize(img,(224,224))\n",
    "    normalized=resized/255.0\n",
    "    reshaped=np.reshape(normalized,(1,224,224,3))\n",
    "    \n",
    "    result=model.predict(reshaped)\n",
    "    label=np.argmax(result,axis=1)[0]\n",
    "    prob=np.max(result,axis=1)[0]\n",
    "    prob=round(prob,2)*100\n",
    "    \n",
    "    img[:10,:]=[0,255,0]\n",
    "    cv2.putText(img,str(category[label]),(100,100),cv2.FONT_HERSHEY_SIMPLEX,1,(255,255,255),2)\n",
    "    #cv2.putText(img,str(prob),(100,10),cv2.FONT_HERSHEY_SIMPLEX,3,(255,255,255),2)\n",
    "    cv2.imshow('LIVE',img)\n",
    "    cv2.waitKey(2000)\n",
    "    print(result)"
   ]
  },
  {
   "cell_type": "code",
   "execution_count": 3,
   "metadata": {},
   "outputs": [
    {
     "name": "stdout",
     "output_type": "stream",
     "text": [
      "WARNING:tensorflow:From C:\\Users\\Ayodhya\\anaconda3\\lib\\site-packages\\tensorflow\\python\\ops\\init_ops.py:1251: calling VarianceScaling.__init__ (from tensorflow.python.ops.init_ops) with dtype is deprecated and will be removed in a future version.\n",
      "Instructions for updating:\n",
      "Call initializer instance with the dtype argument instead of passing it to the constructor\n"
     ]
    },
    {
     "name": "stderr",
     "output_type": "stream",
     "text": [
      "C:\\Users\\Ayodhya\\anaconda3\\lib\\site-packages\\keras_applications\\mobilenet_v2.py:294: UserWarning: `input_shape` is undefined or non-square, or `rows` is not in [96, 128, 160, 192, 224]. Weights for input shape (224, 224) will be loaded as the default.\n",
      "  warnings.warn('`input_shape` is undefined or non-square, '\n"
     ]
    },
    {
     "name": "stdout",
     "output_type": "stream",
     "text": [
      "WARNING:tensorflow:From C:\\Users\\Ayodhya\\anaconda3\\lib\\site-packages\\tensorflow\\python\\ops\\init_ops.py:97: calling GlorotUniform.__init__ (from tensorflow.python.ops.init_ops) with dtype is deprecated and will be removed in a future version.\n",
      "Instructions for updating:\n",
      "Call initializer instance with the dtype argument instead of passing it to the constructor\n",
      "WARNING:tensorflow:From C:\\Users\\Ayodhya\\anaconda3\\lib\\site-packages\\tensorflow\\python\\ops\\init_ops.py:97: calling Zeros.__init__ (from tensorflow.python.ops.init_ops) with dtype is deprecated and will be removed in a future version.\n",
      "Instructions for updating:\n",
      "Call initializer instance with the dtype argument instead of passing it to the constructor\n",
      "WARNING:tensorflow:From C:\\Users\\Ayodhya\\anaconda3\\lib\\site-packages\\tensorflow\\python\\ops\\init_ops.py:97: calling Ones.__init__ (from tensorflow.python.ops.init_ops) with dtype is deprecated and will be removed in a future version.\n",
      "Instructions for updating:\n",
      "Call initializer instance with the dtype argument instead of passing it to the constructor\n",
      "[[9.510960e-05 9.999049e-01]]\n",
      "[[9.510960e-05 9.999049e-01]]\n",
      "[[9.510960e-05 9.999049e-01]]\n",
      "[[9.510960e-05 9.999049e-01]]\n",
      "[[9.510960e-05 9.999049e-01]]\n",
      "[[9.510960e-05 9.999049e-01]]\n",
      "[[9.510960e-05 9.999049e-01]]\n",
      "[[9.510960e-05 9.999049e-01]]\n",
      "[[9.510960e-05 9.999049e-01]]\n",
      "[[9.510960e-05 9.999049e-01]]\n",
      "[[9.510960e-05 9.999049e-01]]\n",
      "[[9.510960e-05 9.999049e-01]]\n",
      "[[9.510960e-05 9.999049e-01]]\n",
      "[[9.510960e-05 9.999049e-01]]\n",
      "[[9.510960e-05 9.999049e-01]]\n",
      "[[9.510960e-05 9.999049e-01]]\n",
      "[[9.510960e-05 9.999049e-01]]\n",
      "[[9.510960e-05 9.999049e-01]]\n",
      "[[9.510960e-05 9.999049e-01]]\n"
     ]
    },
    {
     "ename": "KeyboardInterrupt",
     "evalue": "",
     "output_type": "error",
     "traceback": [
      "\u001b[1;31m---------------------------------------------------------------------------\u001b[0m",
      "\u001b[1;31mKeyboardInterrupt\u001b[0m                         Traceback (most recent call last)",
      "\u001b[1;32m<ipython-input-3-9eb90079366d>\u001b[0m in \u001b[0;36m<module>\u001b[1;34m\u001b[0m\n\u001b[0;32m     22\u001b[0m     \u001b[1;31m#cv2.putText(img,str(prob),(100,10),cv2.FONT_HERSHEY_SIMPLEX,3,(255,255,255),2)\u001b[0m\u001b[1;33m\u001b[0m\u001b[1;33m\u001b[0m\u001b[1;33m\u001b[0m\u001b[0m\n\u001b[0;32m     23\u001b[0m     \u001b[0mcv2\u001b[0m\u001b[1;33m.\u001b[0m\u001b[0mimshow\u001b[0m\u001b[1;33m(\u001b[0m\u001b[1;34m'LIVE'\u001b[0m\u001b[1;33m,\u001b[0m\u001b[0mimg\u001b[0m\u001b[1;33m)\u001b[0m\u001b[1;33m\u001b[0m\u001b[1;33m\u001b[0m\u001b[0m\n\u001b[1;32m---> 24\u001b[1;33m     \u001b[0mcv2\u001b[0m\u001b[1;33m.\u001b[0m\u001b[0mwaitKey\u001b[0m\u001b[1;33m(\u001b[0m\u001b[1;36m2000\u001b[0m\u001b[1;33m)\u001b[0m\u001b[1;33m\u001b[0m\u001b[1;33m\u001b[0m\u001b[0m\n\u001b[0m\u001b[0;32m     25\u001b[0m     \u001b[0mprint\u001b[0m\u001b[1;33m(\u001b[0m\u001b[0mresult\u001b[0m\u001b[1;33m)\u001b[0m\u001b[1;33m\u001b[0m\u001b[1;33m\u001b[0m\u001b[0m\n\u001b[0;32m     26\u001b[0m     \u001b[0mk\u001b[0m\u001b[1;33m=\u001b[0m\u001b[0mcv2\u001b[0m\u001b[1;33m.\u001b[0m\u001b[0mwaitKey\u001b[0m\u001b[1;33m(\u001b[0m\u001b[1;36m1\u001b[0m\u001b[1;33m)\u001b[0m\u001b[1;33m\u001b[0m\u001b[1;33m\u001b[0m\u001b[0m\n",
      "\u001b[1;31mKeyboardInterrupt\u001b[0m: "
     ]
    }
   ],
   "source": [
    "import cv2,os\n",
    "from tensorflow.keras.models import Model\n",
    "\n",
    "model=load_cnn()\n",
    "category={0:'Adult',1:'Kid'}\n",
    "video=cv2.VideoCapture(r'test1.mp4')\n",
    "\n",
    "while(True):\n",
    "    ret,img=video.read()\n",
    "    \n",
    "    resized=cv2.resize(img,(224,224))\n",
    "    normalized=resized/255.0\n",
    "    reshaped=np.reshape(normalized,(1,224,224,3))\n",
    "    \n",
    "    result=model.predict(reshaped)\n",
    "    label=np.argmax(result,axis=1)[0]\n",
    "    prob=np.max(result,axis=1)[0]\n",
    "    prob=round(prob,2)*100\n",
    "    \n",
    "    img[:10,:]=[0,255,0]\n",
    "    cv2.putText(img,str(category[label]),(100,100),cv2.FONT_HERSHEY_SIMPLEX,1,(255,255,255),2)\n",
    "    #cv2.putText(img,str(prob),(100,10),cv2.FONT_HERSHEY_SIMPLEX,3,(255,255,255),2)\n",
    "    cv2.imshow('LIVE',img)\n",
    "    #cv2.waitKey(2000)\n",
    "    print(result)\n",
    "    k=cv2.waitKey(1)\n",
    "    if(k==27):\n",
    "        break\n",
    "cv2.destroyAllWindows()"
   ]
  },
  {
   "cell_type": "code",
   "execution_count": null,
   "metadata": {},
   "outputs": [],
   "source": []
  }
 ],
 "metadata": {
  "kernelspec": {
   "display_name": "Python 3",
   "language": "python",
   "name": "python3"
  },
  "language_info": {
   "codemirror_mode": {
    "name": "ipython",
    "version": 3
   },
   "file_extension": ".py",
   "mimetype": "text/x-python",
   "name": "python",
   "nbconvert_exporter": "python",
   "pygments_lexer": "ipython3",
   "version": "3.7.6"
  }
 },
 "nbformat": 4,
 "nbformat_minor": 2
}
